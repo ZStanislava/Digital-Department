{
 "cells": [
  {
   "cell_type": "markdown",
   "metadata": {},
   "source": [
    "Загрузка"
   ]
  },
  {
   "cell_type": "code",
   "execution_count": 17,
   "metadata": {},
   "outputs": [
    {
     "name": "stdout",
     "output_type": "stream",
     "text": [
      "\n",
      "Количество строк в test_data до обработки: 4779\n",
      "Количество дубликатов в train_data до удаления: 0\n",
      "Количество дубликатов в train_data после удаления: 0\n",
      "\n",
      "Информация о пропущенных значениях в train_data:\n",
      "id               0\n",
      "text             0\n",
      "sber          3817\n",
      "vtb           5683\n",
      "gazprom       6757\n",
      "alfabank      6507\n",
      "raiffeisen    6888\n",
      "rshb          6693\n",
      "company       6418\n",
      "dtype: int64\n",
      "\n",
      "Информация о пропущенных значениях в test_data:\n",
      "id      0\n",
      "text    0\n",
      "dtype: int64\n",
      "Количество строк, удаленных из test_data: 0\n",
      "\n",
      "Удаленные строки из test_data из-за пропущенных значений в колонке 'text':\n",
      "Empty DataFrame\n",
      "Columns: [id, text]\n",
      "Index: []\n",
      "\n",
      "Количество строк в train_data после обработки: 7161\n",
      "Количество строк в test_data после обработки: 4779\n",
      "Classification report for sber:\n",
      "               precision    recall  f1-score   support\n",
      "\n",
      "        -1.0       0.85      0.63      0.72       133\n",
      "         0.0       0.80      0.95      0.87       409\n",
      "         1.0       0.84      0.56      0.67       127\n",
      "\n",
      "    accuracy                           0.81       669\n",
      "   macro avg       0.83      0.71      0.76       669\n",
      "weighted avg       0.82      0.81      0.80       669\n",
      "\n",
      "Classification report for vtb:\n",
      "               precision    recall  f1-score   support\n",
      "\n",
      "        -1.0       0.96      0.79      0.86        56\n",
      "         0.0       0.90      0.99      0.94       224\n",
      "         1.0       1.00      0.25      0.40        16\n",
      "\n",
      "    accuracy                           0.91       296\n",
      "   macro avg       0.95      0.68      0.74       296\n",
      "weighted avg       0.92      0.91      0.90       296\n",
      "\n",
      "Classification report for gazprom:\n",
      "               precision    recall  f1-score   support\n",
      "\n",
      "        -1.0       0.90      0.90      0.90        29\n",
      "         0.0       0.86      0.93      0.89        45\n",
      "         1.0       1.00      0.43      0.60         7\n",
      "\n",
      "    accuracy                           0.88        81\n",
      "   macro avg       0.92      0.75      0.80        81\n",
      "weighted avg       0.88      0.88      0.87        81\n",
      "\n",
      "Classification report for alfabank:\n",
      "               precision    recall  f1-score   support\n",
      "\n",
      "        -1.0       0.79      0.46      0.58        24\n",
      "         0.0       0.81      0.97      0.88        97\n",
      "         1.0       1.00      0.10      0.18        10\n",
      "\n",
      "    accuracy                           0.81       131\n",
      "   macro avg       0.87      0.51      0.55       131\n",
      "weighted avg       0.82      0.81      0.77       131\n",
      "\n",
      "Classification report for raiffeisen:\n",
      "               precision    recall  f1-score   support\n",
      "\n",
      "        -1.0       0.00      0.00      0.00         1\n",
      "         0.0       0.93      1.00      0.96        51\n",
      "         1.0       0.00      0.00      0.00         3\n",
      "\n",
      "    accuracy                           0.93        55\n",
      "   macro avg       0.31      0.33      0.32        55\n",
      "weighted avg       0.86      0.93      0.89        55\n",
      "\n",
      "Classification report for rshb:\n",
      "               precision    recall  f1-score   support\n",
      "\n",
      "        -1.0       0.95      0.90      0.92        20\n",
      "         0.0       0.89      0.99      0.94        68\n",
      "         1.0       0.00      0.00      0.00         6\n",
      "\n",
      "    accuracy                           0.90        94\n",
      "   macro avg       0.61      0.63      0.62        94\n",
      "weighted avg       0.85      0.90      0.87        94\n",
      "\n",
      "Classification report for company:\n",
      "               precision    recall  f1-score   support\n",
      "\n",
      "        -1.0       0.62      0.58      0.60        45\n",
      "         0.0       0.62      0.73      0.67        48\n",
      "         1.0       0.61      0.55      0.58        56\n",
      "\n",
      "    accuracy                           0.62       149\n",
      "   macro avg       0.62      0.62      0.62       149\n",
      "weighted avg       0.62      0.62      0.62       149\n",
      "\n"
     ]
    },
    {
     "name": "stderr",
     "output_type": "stream",
     "text": [
      "c:\\Users\\Stasya\\AppData\\Local\\Programs\\Python\\Python312\\Lib\\site-packages\\sklearn\\metrics\\_classification.py:1509: UndefinedMetricWarning: Precision is ill-defined and being set to 0.0 in labels with no predicted samples. Use `zero_division` parameter to control this behavior.\n",
      "  _warn_prf(average, modifier, f\"{metric.capitalize()} is\", len(result))\n",
      "c:\\Users\\Stasya\\AppData\\Local\\Programs\\Python\\Python312\\Lib\\site-packages\\sklearn\\metrics\\_classification.py:1509: UndefinedMetricWarning: Precision is ill-defined and being set to 0.0 in labels with no predicted samples. Use `zero_division` parameter to control this behavior.\n",
      "  _warn_prf(average, modifier, f\"{metric.capitalize()} is\", len(result))\n",
      "c:\\Users\\Stasya\\AppData\\Local\\Programs\\Python\\Python312\\Lib\\site-packages\\sklearn\\metrics\\_classification.py:1509: UndefinedMetricWarning: Precision is ill-defined and being set to 0.0 in labels with no predicted samples. Use `zero_division` parameter to control this behavior.\n",
      "  _warn_prf(average, modifier, f\"{metric.capitalize()} is\", len(result))\n",
      "c:\\Users\\Stasya\\AppData\\Local\\Programs\\Python\\Python312\\Lib\\site-packages\\sklearn\\metrics\\_classification.py:1509: UndefinedMetricWarning: Precision is ill-defined and being set to 0.0 in labels with no predicted samples. Use `zero_division` parameter to control this behavior.\n",
      "  _warn_prf(average, modifier, f\"{metric.capitalize()} is\", len(result))\n",
      "c:\\Users\\Stasya\\AppData\\Local\\Programs\\Python\\Python312\\Lib\\site-packages\\sklearn\\metrics\\_classification.py:1509: UndefinedMetricWarning: Precision is ill-defined and being set to 0.0 in labels with no predicted samples. Use `zero_division` parameter to control this behavior.\n",
      "  _warn_prf(average, modifier, f\"{metric.capitalize()} is\", len(result))\n",
      "c:\\Users\\Stasya\\AppData\\Local\\Programs\\Python\\Python312\\Lib\\site-packages\\sklearn\\metrics\\_classification.py:1509: UndefinedMetricWarning: Precision is ill-defined and being set to 0.0 in labels with no predicted samples. Use `zero_division` parameter to control this behavior.\n",
      "  _warn_prf(average, modifier, f\"{metric.capitalize()} is\", len(result))\n"
     ]
    },
    {
     "name": "stdout",
     "output_type": "stream",
     "text": [
      "     id  sber_n  sber_0  sber_p  vtb_n  vtb_0  vtb_p  gazprom_n  gazprom_0  \\\n",
      "0  2807       0       1       0      0      1      0          0          1   \n",
      "1  5231       0       1       0      0      1      0          0          1   \n",
      "2  9155       1       0       0      1      0      0          1          0   \n",
      "3  2525       0       1       0      0      1      0          0          1   \n",
      "4  7702       0       1       0      0      1      0          0          1   \n",
      "\n",
      "   gazprom_p  ...  alfabank_p  raiffeisen_n  raiffeisen_0  raiffeisen_p  \\\n",
      "0          0  ...           0             0             1             0   \n",
      "1          0  ...           0             0             1             0   \n",
      "2          0  ...           0             0             1             0   \n",
      "3          0  ...           0             0             1             0   \n",
      "4          0  ...           0             0             1             0   \n",
      "\n",
      "   rshb_n  rshb_0  rshb_p  company_n  company_0  company_p  \n",
      "0       0       1       0          0          0          1  \n",
      "1       0       1       0          0          1          0  \n",
      "2       1       0       0          0          1          0  \n",
      "3       0       1       0          0          0          1  \n",
      "4       0       1       0          0          1          0  \n",
      "\n",
      "[5 rows x 22 columns]\n"
     ]
    }
   ],
   "source": [
    "import pandas as pd\n",
    "import numpy as np\n",
    "import re\n",
    "import string\n",
    "from sklearn.model_selection import train_test_split\n",
    "from sklearn.feature_extraction.text import TfidfVectorizer\n",
    "from sklearn.linear_model import LogisticRegression\n",
    "from sklearn.pipeline import Pipeline\n",
    "from sklearn.metrics import classification_report\n",
    "\n",
    "# Загрузка данных\n",
    "train_data = pd.read_csv('train.csv', sep=';', encoding='utf-8')\n",
    "test_data = pd.read_csv('test.csv', sep=';', encoding='utf-8')# Количество строк в тестовом наборе данных перед обработкой\n",
    "initial_test_length = len(test_data)\n",
    "print(f\"\\nКоличество строк в test_data до обработки: {initial_test_length}\")\n",
    "\n",
    "# Проверка на дубликаты и их удаление\n",
    "print(f\"Количество дубликатов в train_data до удаления: {train_data.duplicated().sum()}\")\n",
    "train_data = train_data.drop_duplicates()\n",
    "print(f\"Количество дубликатов в train_data после удаления: {train_data.duplicated().sum()}\")\n",
    "\n",
    "# Проверка на наличие пропущенных значений\n",
    "print(\"\\nИнформация о пропущенных значениях в train_data:\")\n",
    "print(train_data.isnull().sum())\n",
    "\n",
    "print(\"\\nИнформация о пропущенных значениях в test_data:\")\n",
    "print(test_data.isnull().sum())\n",
    "\n",
    "\n",
    "# Если есть пропущенные значения в колонке 'text', удалите соответствующие строки\n",
    "test_data_na = test_data[test_data['text'].isna()]\n",
    "test_data = test_data.dropna(subset=['text'])\n",
    "\n",
    "# Количество удаленных строк\n",
    "removed_rows = initial_test_length - len(test_data)\n",
    "print(f\"Количество строк, удаленных из test_data: {removed_rows}\")\n",
    "print(\"\\nУдаленные строки из test_data из-за пропущенных значений в колонке 'text':\")\n",
    "print(test_data_na)\n",
    "\n",
    "# Проверка данных после обработки\n",
    "print(f\"\\nКоличество строк в train_data после обработки: {len(train_data)}\")\n",
    "print(f\"Количество строк в test_data после обработки: {len(test_data)}\")\n",
    "\n",
    "# Сохранение очищенных данных (если необходимо)\n",
    "train_data.to_csv('cleaned_train.csv', sep=';', index=False, encoding='utf-8')\n",
    "test_data.to_csv('cleaned_test.csv', sep=';', index=False, encoding='utf-8')\n",
    "\n",
    "# Очистка текста\n",
    "def clean_text(text):\n",
    "    text = text.lower()\n",
    "    text = re.sub(r'[^\\w\\s]', ' ', text)  # Оставить только буквы и пробелы\n",
    "    text = re.sub(r'\\d+', '', text)       # Удалить цифры\n",
    "    text = re.sub(r'\\s+', ' ', text).strip()\n",
    "    return text\n",
    "\n",
    "train_data['text'] = train_data['text'].apply(clean_text)\n",
    "test_data['text'] = test_data['text'].apply(clean_text)\n",
    "\n",
    "# Создание целевых меток\n",
    "companies = ['sber', 'vtb', 'gazprom', 'alfabank', 'raiffeisen', 'rshb','company']\n",
    "for company in companies:\n",
    "    train_data[f'{company}_label'] = train_data[company].apply(lambda x: -1 if x == -1 else (1 if x == 1 else (0 if x == 0 else np.nan)))\n",
    "\n",
    "# Удаление строк без меток\n",
    "train_data.dropna(subset=[f'{company}_label' for company in companies], how='all', inplace=True)\n",
    "\n",
    "# Обучение моделей для каждой компании\n",
    "models = {}\n",
    "for company in companies:\n",
    "    company_data = train_data.dropna(subset=[f'{company}_label'])\n",
    "    X = company_data['text']\n",
    "    y = company_data[f'{company}_label']\n",
    "    \n",
    "    X_train, X_val, y_train, y_val = train_test_split(X, y, test_size=0.2, random_state=42)\n",
    "    \n",
    "    pipeline = Pipeline([\n",
    "        ('tfidf', TfidfVectorizer(max_features=10000)),\n",
    "        ('clf', LogisticRegression(max_iter=1000))\n",
    "    ])\n",
    "    \n",
    "    pipeline.fit(X_train, y_train)\n",
    "    y_pred = pipeline.predict(X_val)\n",
    "    print(f\"Classification report for {company}:\\n\", classification_report(y_val, y_pred))\n",
    "    \n",
    "    models[company] = pipeline\n",
    "\n",
    "# Создание предсказаний для тестовых данных\n",
    "predictions = []\n",
    "for _, row in test_data.iterrows():\n",
    "    row_preds = {'id': row['id']}\n",
    "    text = row['text']\n",
    "    for company in companies:\n",
    "        pred = models[company].predict([text])[0]\n",
    "        row_preds[f'{company}_n'] = 1 if pred == -1 else 0\n",
    "        row_preds[f'{company}_0'] = 1 if pred == 0 else 0\n",
    "        row_preds[f'{company}_p'] = 1 if pred == 1 else 0\n",
    "    predictions.append(row_preds)\n",
    "\n",
    "# Преобразование предсказаний в DataFrame и сохранение в файл\n",
    "submission = pd.DataFrame(predictions)\n",
    "submission.to_csv('submission.csv', index=False)\n",
    "\n",
    "# Печать нескольких примеров предсказаний\n",
    "print(submission.head())\n"
   ]
  },
  {
   "cell_type": "code",
   "execution_count": 11,
   "metadata": {},
   "outputs": [
    {
     "name": "stdout",
     "output_type": "stream",
     "text": [
      "Образец файла submission.csv:\n",
      "     id  sber_n  sber_0  sber_p  vtb_n  vtb_0  vtb_p  gazprom_n  gazprom_0  \\\n",
      "0  2807       0       1       0      0      1      0          0          1   \n",
      "1  5231       0       1       0      0      1      0          0          1   \n",
      "2  9155       1       0       0      1      0      0          1          0   \n",
      "3  2525       0       1       0      0      1      0          0          1   \n",
      "4  7702       0       1       0      0      1      0          0          1   \n",
      "\n",
      "   gazprom_p  ...  alfabank_p  raiffeisen_n  raiffeisen_0  raiffeisen_p  \\\n",
      "0          0  ...           0             0             1             0   \n",
      "1          0  ...           0             0             1             0   \n",
      "2          0  ...           0             0             1             0   \n",
      "3          0  ...           0             0             1             0   \n",
      "4          0  ...           0             0             1             0   \n",
      "\n",
      "   rshb_n  rshb_0  rshb_p  company_n  company_0  company_p  \n",
      "0       0       1       0          0          0          1  \n",
      "1       0       1       0          0          1          0  \n",
      "2       1       0       0          0          1          0  \n",
      "3       0       1       0          0          0          1  \n",
      "4       0       1       0          0          1          0  \n",
      "\n",
      "[5 rows x 22 columns]\n",
      "Количество строк в submission: 4779\n"
     ]
    }
   ],
   "source": [
    "# Загрузка образца файла для сравнения\n",
    "sample_submission = pd.read_csv('submission.csv')\n",
    "print(\"Образец файла submission.csv:\")\n",
    "print(sample_submission.head())\n",
    "print(f\"Количество строк в submission: {len(sample_submission)}\")\n"
   ]
  },
  {
   "cell_type": "code",
   "execution_count": 12,
   "metadata": {},
   "outputs": [
    {
     "name": "stdout",
     "output_type": "stream",
     "text": [
      "Образец файла samle_submission.csv:\n",
      "     id  sber_n  sber_0  sber_p  vtb_n  vtb_0  vtb_p  gazprom_n  gazprom_0  \\\n",
      "0  2807       0       0       0      1      0      0          0          0   \n",
      "1  5231       0       0       0      0      1      0          0          0   \n",
      "2  9155       0       0       0      0      0      0          0          0   \n",
      "3  2525       0       0       0      0      0      0          0          0   \n",
      "4  7702       0       0       0      0      0      0          0          0   \n",
      "\n",
      "   gazprom_p  ...  alfabank_p  raiffeisen_n  raiffeisen_0  raiffeisen_p  \\\n",
      "0          0  ...           0             0             0             0   \n",
      "1          0  ...           0             0             0             0   \n",
      "2          0  ...           0             0             0             0   \n",
      "3          0  ...           0             0             1             0   \n",
      "4          0  ...           0             0             0             0   \n",
      "\n",
      "   rshb_n  rshb_0  rshb_p  company_n  company_0  company_p  \n",
      "0       0       0       1          0          0          0  \n",
      "1       0       0       0          0          0          0  \n",
      "2       0       0       1          0          1          0  \n",
      "3       0       0       0          0          0          0  \n",
      "4       0       0       0          1          0          0  \n",
      "\n",
      "[5 rows x 22 columns]\n",
      "Количество строк в samle_submission: 4788\n"
     ]
    }
   ],
   "source": [
    "# Загрузка образца файла для сравнения\n",
    "sample_submission = pd.read_csv('sample_submission.csv')\n",
    "print(\"Образец файла samle_submission.csv:\")\n",
    "print(sample_submission.head())\n",
    "print(f\"Количество строк в samle_submission: {len(sample_submission)}\")\n"
   ]
  },
  {
   "cell_type": "code",
   "execution_count": 13,
   "metadata": {},
   "outputs": [
    {
     "name": "stdout",
     "output_type": "stream",
     "text": [
      "Отсутствующие id в файле submission.csv: {6499, 5131, 16780, 2540, 2770, 14995, 5524, 2517, 6485}\n"
     ]
    }
   ],
   "source": [
    "# Загрузка файла sample_submission.csv\n",
    "sample_submission_data = pd.read_csv('sample_submission.csv')\n",
    "\n",
    "# Загрузка файла submission.csv\n",
    "submission_data = pd.read_csv('submission.csv')\n",
    "\n",
    "# Преобразование id в множества для обоих файлов\n",
    "sample_ids = set(sample_submission_data['id'])\n",
    "submission_ids = set(submission_data['id'])\n",
    "\n",
    "# Определение отсутствующих id в submission.csv\n",
    "missing_ids = sample_ids - submission_ids\n",
    "\n",
    "print(\"Отсутствующие id в файле submission.csv:\", missing_ids)\n"
   ]
  },
  {
   "cell_type": "code",
   "execution_count": 14,
   "metadata": {},
   "outputs": [
    {
     "name": "stdout",
     "output_type": "stream",
     "text": [
      "Отсутствующие id в тестовых данных: {6499, 5131, 16780, 2540, 2770, 14995, 5524, 2517, 6485}\n"
     ]
    }
   ],
   "source": [
    "missing_ids = set([6499, 5131, 16780, 2540, 2770, 14995, 5524, 2517, 6485]) - set(test_data['id'])\n",
    "print(\"Отсутствующие id в тестовых данных:\", missing_ids)\n"
   ]
  },
  {
   "cell_type": "code",
   "execution_count": 15,
   "metadata": {},
   "outputs": [
    {
     "name": "stdout",
     "output_type": "stream",
     "text": [
      "Количество уникальных id в предсказаниях: 4779\n"
     ]
    }
   ],
   "source": [
    "unique_submission_ids = set(submission['id'])\n",
    "print(\"Количество уникальных id в предсказаниях:\", len(unique_submission_ids))\n"
   ]
  },
  {
   "cell_type": "code",
   "execution_count": 16,
   "metadata": {},
   "outputs": [
    {
     "name": "stdout",
     "output_type": "stream",
     "text": [
      "Дубликаты id в предсказаниях: []\n"
     ]
    }
   ],
   "source": [
    "duplicate_submission_ids = submission[submission.duplicated(subset=['id'], keep=False)]['id'].tolist()\n",
    "print(\"Дубликаты id в предсказаниях:\", duplicate_submission_ids)\n"
   ]
  }
 ],
 "metadata": {
  "kernelspec": {
   "display_name": "Python 3",
   "language": "python",
   "name": "python3"
  },
  "language_info": {
   "codemirror_mode": {
    "name": "ipython",
    "version": 3
   },
   "file_extension": ".py",
   "mimetype": "text/x-python",
   "name": "python",
   "nbconvert_exporter": "python",
   "pygments_lexer": "ipython3",
   "version": "3.12.0"
  }
 },
 "nbformat": 4,
 "nbformat_minor": 2
}
